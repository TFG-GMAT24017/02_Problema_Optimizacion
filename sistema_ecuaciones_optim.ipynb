{
 "cells": [
  {
   "cell_type": "code",
   "execution_count": 1,
   "id": "48503d06",
   "metadata": {},
   "outputs": [],
   "source": [
    "import sympy as sp"
   ]
  },
  {
   "cell_type": "code",
   "execution_count": 2,
   "id": "c413beb7",
   "metadata": {},
   "outputs": [],
   "source": [
    "# Definimos las variables simbólicas\n",
    "A, B, G, tau = sp.symbols('A B G tau', real=True, positive=True)\n",
    "\n",
    "# Definimos la matriz M simbólicamente\n",
    "M_sym = sp.Matrix([\n",
    "    [0, 1, 0, 0],\n",
    "    [-(A + B)/(G * tau**2), 1/(G * tau**2), 0, -B**2/(2 * G**2 * tau**4)],\n",
    "    [0, 0, 0, (B + 2*A)/(2 * G * tau**2)],\n",
    "    [0, 0, -1, -1/(G * tau**2)]\n",
    "])"
   ]
  },
  {
   "cell_type": "code",
   "execution_count": 3,
   "id": "df5f5dc3",
   "metadata": {},
   "outputs": [
    {
     "data": {
      "text/plain": [
       "[(-sqrt(-4*A*G*tau**2 - 4*B*G*tau**2 + 1)/(2*G*tau**2) + 1/(2*G*tau**2),\n",
       "  1,\n",
       "  [Matrix([\n",
       "   [-G*tau**2*(-sqrt(-4*A*G*tau**2 - 4*B*G*tau**2 + 1)/(2*G*tau**2) + 1/(2*G*tau**2))/(A + B) + 1/(A + B)],\n",
       "   [                                                                                                    1],\n",
       "   [                                                                                                    0],\n",
       "   [                                                                                                    0]])]),\n",
       " (sqrt(-4*A*G*tau**2 - 4*B*G*tau**2 + 1)/(2*G*tau**2) + 1/(2*G*tau**2),\n",
       "  1,\n",
       "  [Matrix([\n",
       "   [-G*tau**2*(sqrt(-4*A*G*tau**2 - 4*B*G*tau**2 + 1)/(2*G*tau**2) + 1/(2*G*tau**2))/(A + B) + 1/(A + B)],\n",
       "   [                                                                                                   1],\n",
       "   [                                                                                                   0],\n",
       "   [                                                                                                   0]])]),\n",
       " (-sqrt(-4*A*G*tau**2 - 2*B*G*tau**2 + 1)/(2*G*tau**2) - 1/(2*G*tau**2),\n",
       "  1,\n",
       "  [Matrix([\n",
       "   [-4*B**2*(-sqrt(-4*A*G*tau**2 - 2*B*G*tau**2 + 1)/(2*G*tau**2) - 1/(2*G*tau**2))/(16*A + B**2*G*tau**2 + 12*B) + (-B**3*G*tau**2 - 4*B**2)/(16*A*G*tau**2 + B**2*G**2*tau**4 + 12*B*G*tau**2)],\n",
       "   [        -B**3*(-sqrt(-4*A*G*tau**2 - 2*B*G*tau**2 + 1)/(2*G*tau**2) - 1/(2*G*tau**2))/(16*A + B**2*G*tau**2 + 12*B) + (4*A*B**2 + 2*B**3)/(16*A*G*tau**2 + B**2*G**2*tau**4 + 12*B*G*tau**2)],\n",
       "   [                                                                                                                        sqrt(-4*A*G*tau**2 - 2*B*G*tau**2 + 1)/(2*G*tau**2) - 1/(2*G*tau**2)],\n",
       "   [                                                                                                                                                                                           1]])]),\n",
       " (sqrt(-4*A*G*tau**2 - 2*B*G*tau**2 + 1)/(2*G*tau**2) - 1/(2*G*tau**2),\n",
       "  1,\n",
       "  [Matrix([\n",
       "   [-4*B**2*(sqrt(-4*A*G*tau**2 - 2*B*G*tau**2 + 1)/(2*G*tau**2) - 1/(2*G*tau**2))/(16*A + B**2*G*tau**2 + 12*B) + (-B**3*G*tau**2 - 4*B**2)/(16*A*G*tau**2 + B**2*G**2*tau**4 + 12*B*G*tau**2)],\n",
       "   [        -B**3*(sqrt(-4*A*G*tau**2 - 2*B*G*tau**2 + 1)/(2*G*tau**2) - 1/(2*G*tau**2))/(16*A + B**2*G*tau**2 + 12*B) + (4*A*B**2 + 2*B**3)/(16*A*G*tau**2 + B**2*G**2*tau**4 + 12*B*G*tau**2)],\n",
       "   [                                                                                                                      -sqrt(-4*A*G*tau**2 - 2*B*G*tau**2 + 1)/(2*G*tau**2) - 1/(2*G*tau**2)],\n",
       "   [                                                                                                                                                                                          1]])])]"
      ]
     },
     "execution_count": 3,
     "metadata": {},
     "output_type": "execute_result"
    }
   ],
   "source": [
    "# Calculamos los autovalores y autovectores simbólicamente\n",
    "eigen_data = M_sym.eigenvects()\n",
    "\n",
    "eigen_data"
   ]
  }
 ],
 "metadata": {
  "kernelspec": {
   "display_name": "metodos_numericos_3.10",
   "language": "python",
   "name": "python3"
  },
  "language_info": {
   "codemirror_mode": {
    "name": "ipython",
    "version": 3
   },
   "file_extension": ".py",
   "mimetype": "text/x-python",
   "name": "python",
   "nbconvert_exporter": "python",
   "pygments_lexer": "ipython3",
   "version": "3.10.13"
  }
 },
 "nbformat": 4,
 "nbformat_minor": 5
}
