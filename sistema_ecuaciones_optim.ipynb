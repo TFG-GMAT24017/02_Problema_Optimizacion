{
 "cells": [
  {
   "cell_type": "code",
   "execution_count": 1,
   "id": "48503d06",
   "metadata": {},
   "outputs": [],
   "source": [
    "import sympy as sp"
   ]
  },
  {
   "cell_type": "code",
   "execution_count": 2,
   "id": "c413beb7",
   "metadata": {},
   "outputs": [],
   "source": [
    "# Definimos las variables simbólicas\n",
    "A, B, C = sp.symbols('A B C', real=True, positive=True)\n",
    "\n",
    "# Definimos la matriz M simbólicamente\n",
    "M_sym = sp.Matrix([\n",
    "    [0, 1, 0, 0],\n",
    "    [-(A + C)/B, 1/B, 0, -C**2/(2*B**2)],\n",
    "    [0, 0, 0, (A + C)/B],\n",
    "    [0, 0, -1, -1/B]\n",
    "])"
   ]
  },
  {
   "cell_type": "code",
   "execution_count": 3,
   "id": "df5f5dc3",
   "metadata": {},
   "outputs": [
    {
     "data": {
      "text/plain": [
       "[(-sqrt(-4*A*B - 4*B*C + 1)/(2*B) - 1/(2*B),\n",
       "  1,\n",
       "  [Matrix([\n",
       "   [-C**2/(4*A*B + 4*B*C) - C**2*(-sqrt(-4*A*B - 4*B*C + 1)/(2*B) - 1/(2*B))/(4*A + 4*C)],\n",
       "   [                                                                          C**2/(4*B)],\n",
       "   [                                            sqrt(-4*A*B - 4*B*C + 1)/(2*B) - 1/(2*B)],\n",
       "   [                                                                                   1]])]),\n",
       " (-sqrt(-4*A*B - 4*B*C + 1)/(2*B) + 1/(2*B),\n",
       "  1,\n",
       "  [Matrix([\n",
       "   [-B*(-sqrt(-4*A*B - 4*B*C + 1)/(2*B) + 1/(2*B))/(A + C) + 1/(A + C)],\n",
       "   [                                                                 1],\n",
       "   [                                                                 0],\n",
       "   [                                                                 0]])]),\n",
       " (sqrt(-4*A*B - 4*B*C + 1)/(2*B) - 1/(2*B),\n",
       "  1,\n",
       "  [Matrix([\n",
       "   [-C**2/(4*A*B + 4*B*C) - C**2*(sqrt(-4*A*B - 4*B*C + 1)/(2*B) - 1/(2*B))/(4*A + 4*C)],\n",
       "   [                                                                         C**2/(4*B)],\n",
       "   [                                          -sqrt(-4*A*B - 4*B*C + 1)/(2*B) - 1/(2*B)],\n",
       "   [                                                                                  1]])]),\n",
       " (sqrt(-4*A*B - 4*B*C + 1)/(2*B) + 1/(2*B),\n",
       "  1,\n",
       "  [Matrix([\n",
       "   [-B*(sqrt(-4*A*B - 4*B*C + 1)/(2*B) + 1/(2*B))/(A + C) + 1/(A + C)],\n",
       "   [                                                                1],\n",
       "   [                                                                0],\n",
       "   [                                                                0]])])]"
      ]
     },
     "execution_count": 3,
     "metadata": {},
     "output_type": "execute_result"
    }
   ],
   "source": [
    "# Calculamos los autovalores y autovectores simbólicamente\n",
    "eigen_data = M_sym.eigenvects()\n",
    "\n",
    "eigen_data"
   ]
  }
 ],
 "metadata": {
  "kernelspec": {
   "display_name": "Python 3",
   "language": "python",
   "name": "python3"
  },
  "language_info": {
   "codemirror_mode": {
    "name": "ipython",
    "version": 3
   },
   "file_extension": ".py",
   "mimetype": "text/x-python",
   "name": "python",
   "nbconvert_exporter": "python",
   "pygments_lexer": "ipython3",
   "version": "3.10.13"
  }
 },
 "nbformat": 4,
 "nbformat_minor": 5
}
